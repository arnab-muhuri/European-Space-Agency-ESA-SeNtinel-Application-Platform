{
  "nbformat": 4,
  "nbformat_minor": 0,
  "metadata": {
    "colab": {
      "provenance": [],
      "authorship_tag": "ABX9TyOJD4d4Yvp6G/xvTOjdQQHX"
    },
    "kernelspec": {
      "name": "python3",
      "display_name": "Python 3"
    },
    "language_info": {
      "name": "python"
    }
  },
  "cells": [
    {
      "cell_type": "code",
      "execution_count": null,
      "metadata": {
        "id": "zA-o1glpBuwy"
      },
      "outputs": [],
      "source": [
        "# Welcome to the NASA Earth Sciences & UW Hackweek 2024"
      ]
    },
    {
      "cell_type": "markdown",
      "source": [],
      "metadata": {
        "id": "Z0H80EfzcsEn"
      }
    }
  ]
}